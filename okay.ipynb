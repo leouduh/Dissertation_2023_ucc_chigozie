{
 "cells": [
  {
   "attachments": {},
   "cell_type": "markdown",
   "metadata": {},
   "source": [
    "# IMPORT THE PACKAGES NEEEDED"
   ]
  },
  {
   "cell_type": "code",
   "execution_count": 31,
   "metadata": {},
   "outputs": [],
   "source": [
    "import joblib\n",
    "import matplotlib.pyplot as plt\n",
    "import numpy as np\n",
    "import pandas as pd\n",
    "import tensorflow as tf\n",
    "from tensorflow import keras\n",
    "from tensorflow.keras import models, layers\n",
    "import keras_tuner as kt\n",
    "import sklearn\n",
    "from sklearn.metrics import classification_report, confusion_matrix, ConfusionMatrixDisplay\n",
    "from sklearn.model_selection import train_test_split\n"
   ]
  },
  {
   "attachments": {},
   "cell_type": "markdown",
   "metadata": {},
   "source": [
    "## LOAD ALL THE FILES NEEDED"
   ]
  },
  {
   "attachments": {},
   "cell_type": "markdown",
   "metadata": {},
   "source": [
    "\n",
    "Steady_state_transients_df---->  DataFrame of examples for both steady state and transients Active Power, Frequency, Voltage, and Reactive Power\n",
    "Steady_state_transients_df---->  numpy of target for both steady state and transients Active Power, Frequency, Voltage, and Reactive Power\n",
    "\n",
    "load_changes_incr_dcr_df---->  DataFrame of examples for both incremental and decremental load change- Active Power, Frequency, Voltage, and Reactive Power\n",
    "load_changes_incr_dcr_df---->  numpy of target for both incremental and decremental load change- Active Power, Frequency, Voltage, and Reactive Power\n",
    "\n",
    "breaker_opening_df---->  DataFrame of examples for breaker opening :Active Power, Frequency, Voltage, and Reactive Power\n",
    "breaker_opening_df---->  numpy of target for breaker opening: Active Power, Frequency, Voltage, and Reactive Power\n",
    "\n",
    "sensor_fault_df---->  DataFrame of examples for sensor fault: Active Power, Frequency, Voltage, and Reactive Power\n",
    "sensor_fault_df---->  numpy of target for sensor fault: Active Power, Frequency, Voltage, and Reactive Power\n",
    "\n",
    "stealthy_FDIA_df---->  DataFrame of examples for stealthy FDIA: Active Power, Frequency, Voltage, and Reactive Power\n",
    "stealthy_FDIA_df---->  numpy of target for stealthy FDIA: Active Power, Frequency, Voltage, and Reactive Power\n",
    "\n",
    "FDIA_df---->  DataFrame of examples for FDIA: Active Power, Frequency, Voltage, and Reactive Power\n",
    "FDIA_df---->  numpy of target for FDIA: Active Power, Frequency, Voltage, and Reactive Power"
   ]
  },
  {
   "cell_type": "code",
   "execution_count": 2,
   "metadata": {},
   "outputs": [],
   "source": [
    "waveform_1 = joblib.load('Steady_state_transients_df')\n",
    "targets_1 = joblib.load('Steady_state_transients_np')\n",
    "\n",
    "waveform_2 = joblib.load('load_changes_incr_dcr_df')\n",
    "targets_2 = joblib.load('load_changes_incr_dcr_np')\n",
    "\n",
    "waveform_3 = joblib.load('breaker_opening_df')\n",
    "targets_3 = joblib.load('breaker_opening_np')\n",
    "\n",
    "waveform_4 = joblib.load('sensor_fault_df')\n",
    "targets_4 = joblib.load('sensor_fault_np')\n",
    "\n",
    "waveform_5 = joblib.load('stealthy_FDIA_df')\n",
    "targets_5 = joblib.load('stealthy_FDIA_np')\n",
    "\n",
    "waveform_6 = joblib.load('fdia_df.joblib')\n",
    "targets_6 = joblib.load('fdia.joblib')\n"
   ]
  },
  {
   "attachments": {},
   "cell_type": "markdown",
   "metadata": {},
   "source": [
    "# Confirm that every class size is made up of 400 examples"
   ]
  },
  {
   "attachments": {},
   "cell_type": "markdown",
   "metadata": {},
   "source": [
    "### The integar representing the False data injection attack is represented as 8 but is changed to 7, making the class representations orderly...It is zero indexed"
   ]
  },
  {
   "cell_type": "code",
   "execution_count": 4,
   "metadata": {},
   "outputs": [],
   "source": [
    "targets_6[targets_6 == [8]] = [7]"
   ]
  },
  {
   "cell_type": "code",
   "execution_count": 5,
   "metadata": {},
   "outputs": [
    {
     "name": "stdout",
     "output_type": "stream",
     "text": [
      "(array([0., 1.]), array([400, 400], dtype=int64))\n",
      "(array([2., 3.]), array([400, 400], dtype=int64))\n",
      "(array([4]), array([400], dtype=int64))\n",
      "(array([5.]), array([400], dtype=int64))\n",
      "(array([6]), array([400], dtype=int64))\n",
      "(array([7]), array([400], dtype=int64))\n"
     ]
    }
   ],
   "source": [
    "print(np.unique(targets_1, return_counts=True))\n",
    "print(np.unique(targets_2, return_counts=True))\n",
    "print(np.unique(targets_3, return_counts=True))\n",
    "print(np.unique(targets_4, return_counts=True))\n",
    "print(np.unique(targets_5, return_counts=True))\n",
    "print(np.unique(targets_6, return_counts=True))"
   ]
  },
  {
   "attachments": {},
   "cell_type": "markdown",
   "metadata": {},
   "source": [
    "## Create a list to contain tuples of the predictors prefixed with `waveform` and targets prefixed with `targets` so that they map to each other"
   ]
  },
  {
   "cell_type": "code",
   "execution_count": 6,
   "metadata": {},
   "outputs": [],
   "source": [
    "all_events = [\n",
    "    (waveform_1, targets_1), \n",
    "    (waveform_2, targets_2), \n",
    "    (waveform_3, targets_3), \n",
    "    (waveform_4, targets_4), \n",
    "    (waveform_5, targets_5), \n",
    "    (waveform_6, targets_6),\n",
    "]\n"
   ]
  },
  {
   "attachments": {},
   "cell_type": "markdown",
   "metadata": {},
   "source": [
    "## Create one dataframe to house all the examples of every class or scenario and one numpy array representing the class from 0 to 7\n",
    " In the dataframe for all examples, every 1000 samples is an instance\n",
    "\n",
    "0 - Transient\n",
    "\n",
    "1- Steady State\n",
    "\n",
    "2 - Incremental Load change\n",
    "\n",
    "3 - Decremental load change\n",
    "\n",
    "4 - Breaker opening\n",
    "\n",
    "5 - Sensor fault\n",
    "\n",
    "6 - Stealthy FDIA\n",
    "\n",
    "7 - FDIA\n"
   ]
  },
  {
   "cell_type": "code",
   "execution_count": 7,
   "metadata": {},
   "outputs": [],
   "source": [
    "for i, (power, pred_class) in enumerate(all_events):\n",
    "    if i == 0:\n",
    "        building_block = power\n",
    "        building_arr = pred_class\n",
    "    else:\n",
    "        building_block = pd.concat(\n",
    "            (building_block, power), ignore_index=True, axis=0\n",
    "        )\n",
    "        building_arr = np.append(building_arr, pred_class, axis=0)\n",
    "\n",
    "waveform = building_block\n",
    "all_targets = building_arr\n",
    "    "
   ]
  },
  {
   "attachments": {},
   "cell_type": "markdown",
   "metadata": {},
   "source": [
    "### There are a total of 3_200 instances meaning that there would be 3_200_000 rows in the dataframe capturing all examples: `waveform`"
   ]
  },
  {
   "cell_type": "code",
   "execution_count": 8,
   "metadata": {},
   "outputs": [
    {
     "name": "stdout",
     "output_type": "stream",
     "text": [
      "(3200000, 12) (3200, 1)\n",
      "3200\n"
     ]
    }
   ],
   "source": [
    "print(waveform.shape, all_targets.shape)\n",
    "n_instances = all_targets.shape[0]\n",
    "print(n_instances)"
   ]
  },
  {
   "attachments": {},
   "cell_type": "markdown",
   "metadata": {},
   "source": [
    "## Confirm pnce again the class size of each class in the numpy array for all targets `all_targets`"
   ]
  },
  {
   "cell_type": "code",
   "execution_count": 9,
   "metadata": {},
   "outputs": [
    {
     "data": {
      "text/plain": [
       "(array([0., 1., 2., 3., 4., 5., 6., 7.]),\n",
       " array([400, 400, 400, 400, 400, 400, 400, 400], dtype=int64))"
      ]
     },
     "execution_count": 9,
     "metadata": {},
     "output_type": "execute_result"
    }
   ],
   "source": [
    "np.unique(all_targets, return_counts=True)"
   ]
  },
  {
   "attachments": {},
   "cell_type": "markdown",
   "metadata": {},
   "source": [
    "### Create template to organise the shape of the dataframe to hold all the instances synthesized. A multidimensional numpy is used for this....Each is gonna be 1000 by 3, 3 columns for active Power alone in all 3 phases.....This is where the other variables are dropped: Reactive power, Frequency, and voltage"
   ]
  },
  {
   "cell_type": "code",
   "execution_count": 10,
   "metadata": {},
   "outputs": [],
   "source": [
    "predictors = np.empty(shape=(0, 1000, 3))"
   ]
  },
  {
   "cell_type": "code",
   "execution_count": 11,
   "metadata": {},
   "outputs": [],
   "source": [
    "start, end = 0, 1\n",
    "for i in range(n_instances):\n",
    "    arr = np.array([waveform.iloc[start * 1_000: end * 1_000, 0:3].to_numpy(),])\n",
    "    predictors = np.append(predictors, arr, axis=0)\n",
    "    start += 1\n",
    "    end += 1"
   ]
  },
  {
   "attachments": {},
   "cell_type": "markdown",
   "metadata": {},
   "source": [
    "### There are 3_200 total instances, each have a dimension of 1_000 samples in 0.5 seconds for Active power in 3 lines"
   ]
  },
  {
   "cell_type": "code",
   "execution_count": 12,
   "metadata": {},
   "outputs": [
    {
     "data": {
      "text/plain": [
       "(3200, 1000, 3)"
      ]
     },
     "execution_count": 12,
     "metadata": {},
     "output_type": "execute_result"
    }
   ],
   "source": [
    "predictors.shape"
   ]
  },
  {
   "attachments": {},
   "cell_type": "markdown",
   "metadata": {},
   "source": [
    "## Use the test_train_split function imported to split the dataset into training and testing pairs, 30 percent for testing and 70 percent for training  "
   ]
  },
  {
   "cell_type": "code",
   "execution_count": 14,
   "metadata": {},
   "outputs": [],
   "source": [
    "X_train, X_test, y_train, y_test = train_test_split(predictors, all_targets, test_size=0.3, random_state=42)"
   ]
  },
  {
   "cell_type": "code",
   "execution_count": 15,
   "metadata": {},
   "outputs": [],
   "source": [
    "def model_builder(hp):\n",
    "    model = keras.Sequential()\n",
    "    #######################################\n",
    "    n_filters_1 = hp.Int('n_filters_convlayer1', min_value = 4, max_value=200, step=4)\n",
    "    kernel_1 = hp.Int('Kernel_convlayer_1', min_value=1, max_value=4, step=1)\n",
    "    padding_1 = hp.Choice('padding_1', values=['valid', 'same', 'causal'])\n",
    "    strides_1 = hp.Choice('strides_1', values=[1, 2, 3])\n",
    "    n_filters_2 = hp.Int('n_filters_convlayer2', min_value = 4, max_value=200, step=4)\n",
    "    kernel_2 = hp.Int('Kernel_convlayer_2', min_value=1, max_value=4, step=1)\n",
    "    padding_2 = hp.Choice('padding_2', values=['valid', 'same', 'causal'])\n",
    "    strides_2 = hp.Choice('strides_2', values=[1, 2,])\n",
    "    n_filters_3 = hp.Int('n_filters_convlayer3', min_value = 4, max_value=200, step=4)\n",
    "    kernel_3 = hp.Int('Kernel_convlayer_3', min_value=1, max_value=4, step=1)\n",
    "    padding_3 = hp.Choice('padding_3', values=['valid', 'same', 'causal'])\n",
    "    strides_3 = hp.Choice('strides_3', values=[1, 2,])\n",
    "    pool_1 = hp.Int('pool_1', min_value=2, max_value=4, step=1)\n",
    "    pool_2 = hp.Int('pool_2', min_value=2, max_value=8, step=1)\n",
    "    #####################################################################\n",
    "    n_filters_4 = hp.Int('n_filters_convlayer4', min_value = 4, max_value=200, step=4)\n",
    "    kernel_4 = hp.Int('Kernel_convlayer_4', min_value=1, max_value=4, step=1)\n",
    "    padding_4 = hp.Choice('padding_4', values=['valid', 'same', 'causal'])\n",
    "    strides_4 = hp.Choice('strides_4', values=[1, 2,])\n",
    "    n_filters_5 = hp.Int('n_filters_convlayer5', min_value = 4, max_value=200, step=4)\n",
    "    kernel_5 = hp.Int('Kernel_convlayer_5', min_value=1, max_value=4, step=1)\n",
    "    padding_5 = hp.Choice('padding_5', values=['valid', 'same', 'causal'])\n",
    "    strides_5 = hp.Choice('strides_5', values=[1, 2, ])\n",
    "    n_filters_6 = hp.Int('n_filters_convlayer6', min_value = 4, max_value=200, step=4)\n",
    "    kernel_6 = hp.Int('Kernel_convlayer_6', min_value=1, max_value=4, step=1)\n",
    "    padding_6 = hp.Choice('padding_6', values=['valid', 'same', 'causal'])\n",
    "    strides_6 = hp.Choice('strides_6', values=[1, 2, ])\n",
    "    n_filters_7 = hp.Int('n_filters_convlayer7', min_value = 4, max_value=200, step=4)\n",
    "    kernel_7 = hp.Int('Kernel_convlayer_7', min_value=1, max_value=3, step=1)\n",
    "    padding_7 = hp.Choice('padding_7', values=['valid', 'same', 'causal'])\n",
    "    strides_7 = hp.Choice('strides_7', values=[1, 2, 3,])\n",
    "    ###################################################################\n",
    "    model.add(layers.Conv1D(filters=n_filters_1, kernel_size=(kernel_1), activation='relu', input_shape=(1000, 3), padding=padding_1, strides=strides_1))\n",
    "    model.add(layers.Conv1D(filters=n_filters_2, kernel_size=(kernel_2), activation='relu', padding=padding_2, strides=strides_2))\n",
    "    model.add(layers.Conv1D(filters=n_filters_3, kernel_size=(kernel_3), activation='relu', padding=padding_3, strides=strides_3))\n",
    "    model.add(layers.MaxPooling1D((pool_1)))\n",
    "    #################################################\n",
    "    model.add(layers.Conv1D(n_filters_4, (kernel_4), activation='relu', input_shape=(1000, 3), padding=padding_4, strides=strides_4))\n",
    "    model.add(layers.Conv1D(n_filters_5, (kernel_5), activation='relu', padding=padding_5, strides=strides_5))\n",
    "    model.add(layers.Conv1D(n_filters_6, (kernel_6), activation='relu', padding=padding_6, strides=strides_6))\n",
    "    model.add(layers.Conv1D(n_filters_7, (kernel_7), activation='relu', padding=padding_7, strides=strides_7))\n",
    "    model.add(layers.MaxPooling1D((pool_2)))\n",
    "\n",
    "\n",
    "    ####################################\n",
    "    dense_nodes_1 = hp.Int('nodes_dense_1', min_value=4, max_value=512, step=16)\n",
    "    activation_1 = hp.Choice('Activation_layer_1', values=['relu', 'Softmax', 'sigmoid'])\n",
    "    dense_nodes_2 = hp.Int('nodes_dense_2', min_value=4, max_value=512, step=16)\n",
    "    activation_2 = hp.Choice('Activation_layer_2', values=['relu', 'Softmax', 'sigmoid'])\n",
    "    dense_nodes_3 = hp.Int('nodes_dense_3', min_value=4, max_value=512, step=16)\n",
    "    activation_3 = hp.Choice('Activation_layer_3', values=['relu', 'Softmax', 'sigmoid'])\n",
    "    model.add(layers.Flatten())\n",
    "    model.add(layers.Dense(units=dense_nodes_1, activation=activation_1))\n",
    "    model.add(layers.Dense(units=dense_nodes_2, activation=activation_2))\n",
    "    model.add(layers.Dense(units=dense_nodes_3, activation=activation_3))\n",
    "    model.add(layers.Dense(8))\n",
    "\n",
    "    hp_learning_rate = hp.Choice('learning_rate', values=[1e-2, 1e-3, 1e-4])\n",
    "\n",
    "    model.compile(optimizer=keras.optimizers.Adam(learning_rate=hp_learning_rate),\n",
    "                loss=keras.losses.SparseCategoricalCrossentropy(from_logits=True),\n",
    "                metrics=['accuracy'])\n",
    "\n",
    "    \n",
    "    return model"
   ]
  },
  {
   "cell_type": "code",
   "execution_count": 16,
   "metadata": {},
   "outputs": [],
   "source": [
    "import keras_tuner as kt\n",
    "tuner = kt.Hyperband(model_builder,\n",
    "                     objective='val_accuracy',\n",
    "                     max_epochs=30,\n",
    "                     factor=3,\n",
    "                     directory=r'C:\\Users\\chigo\\OneDrive\\Desktop\\final_truth',\n",
    "                     project_name='microgrid_project_1')\n"
   ]
  },
  {
   "cell_type": "code",
   "execution_count": 17,
   "metadata": {},
   "outputs": [
    {
     "name": "stdout",
     "output_type": "stream",
     "text": [
      "Trial 77 Complete [00h 00m 53s]\n",
      "val_accuracy: 0.146484375\n",
      "\n",
      "Best val_accuracy So Far: 0.837890625\n",
      "Total elapsed time: 00h 47m 58s\n",
      "INFO:tensorflow:Oracle triggered exit\n"
     ]
    }
   ],
   "source": [
    "stop_early = tf.keras.callbacks.EarlyStopping(monitor='val_loss', patience=5)\n",
    "tuner.search(X_train, y_train, epochs=30,  validation_split=0.3, callbacks=[stop_early])\n",
    "\n",
    "best_hps=tuner.get_best_hyperparameters(num_trials=1)[0]\n",
    "\n",
    "\n"
   ]
  },
  {
   "cell_type": "code",
   "execution_count": 18,
   "metadata": {},
   "outputs": [
    {
     "name": "stdout",
     "output_type": "stream",
     "text": [
      "Convlayer 1 filters 24  Convlayer 1 kernel size 1  Convlayer 1 padding  valid \n",
      "Convlayer 2 filters {best_hps.get('n_filters_convlayer2')}  Convlayer 2 kernel size 3  Convlayer 2 padding  valid \n",
      "Convlayer 3 filters 172  Convlayer 3 kernel size 1  Convlayer 3 padding  valid \n",
      "Convlayer 4 filters 36  Convlayer 4 kernel size 3  Convlayer 4 padding  valid \n",
      "Convlayer 5 filters 40  Convlayer 5 kernel size 3  Convlayer 5 padding  same \n",
      "Convlayer 6 filters 180  Convlayer 6 kernel size 2  Convlayer 6 padding  valid \n",
      "Convlayer 7 filters 124  Convlayer 7 kernel size 3  Convlayer 7 padding  valid \n",
      "first pooling size 2 Second pooling size 4\n",
      "Dense layer 1 nodes is: 420 activation relu Dense layer 2 nodes is: 132 activation relu Dense layer 3 nodes is: 180 activation relu\n"
     ]
    }
   ],
   "source": [
    "print(\n",
    "    f\"Convlayer 1 filters {best_hps.get('n_filters_convlayer1')} \",\n",
    "    f\"Convlayer 1 kernel size {best_hps.get('Kernel_convlayer_1')} \",\n",
    "    f\"Convlayer 1 padding  {best_hps.get('padding_1')} \",\n",
    ")\n",
    "print(\n",
    "    \"Convlayer 2 filters {best_hps.get('n_filters_convlayer2')} \",\n",
    "    f\"Convlayer 2 kernel size {best_hps.get('Kernel_convlayer_2')} \",\n",
    "    f\"Convlayer 2 padding  {best_hps.get('padding_2')} \",\n",
    ")\n",
    "print(\n",
    "    f\"Convlayer 3 filters {best_hps.get('n_filters_convlayer3')} \",\n",
    "    f\"Convlayer 3 kernel size {best_hps.get('Kernel_convlayer_3')} \",\n",
    "    f\"Convlayer 3 padding  {best_hps.get('padding_3')} \",\n",
    ")\n",
    "print(\n",
    "    f\"Convlayer 4 filters {best_hps.get('n_filters_convlayer4')} \",\n",
    "    f\"Convlayer 4 kernel size {best_hps.get('Kernel_convlayer_4')} \",\n",
    "    f\"Convlayer 4 padding  {best_hps.get('padding_4')} \",\n",
    ")\n",
    "print(\n",
    "    f\"Convlayer 5 filters {best_hps.get('n_filters_convlayer5')} \",\n",
    "    f\"Convlayer 5 kernel size {best_hps.get('Kernel_convlayer_5')} \",\n",
    "    f\"Convlayer 5 padding  {best_hps.get('padding_5')} \",\n",
    ")\n",
    "print(\n",
    "    f\"Convlayer 6 filters {best_hps.get('n_filters_convlayer6')} \",\n",
    "    f\"Convlayer 6 kernel size {best_hps.get('Kernel_convlayer_6')} \",\n",
    "    f\"Convlayer 6 padding  {best_hps.get('padding_6')} \",\n",
    ")\n",
    "print(\n",
    "    f\"Convlayer 7 filters {best_hps.get('n_filters_convlayer7')} \",\n",
    "    f\"Convlayer 7 kernel size {best_hps.get('Kernel_convlayer_7')} \",\n",
    "    f\"Convlayer 7 padding  {best_hps.get('padding_7')} \",\n",
    ")\n",
    "print(\n",
    "    f\"first pooling size {best_hps.get('pool_1')}\",\n",
    "    f\"Second pooling size {best_hps.get('pool_2')}\",\n",
    ")\n",
    "print(\n",
    "    f\"Dense layer 1 nodes is: {best_hps.get('nodes_dense_1')} activation {best_hps.get('Activation_layer_1')}\",\n",
    "    f\"Dense layer 2 nodes is: {best_hps.get('nodes_dense_2')} activation {best_hps.get('Activation_layer_2')}\",\n",
    "    f\"Dense layer 3 nodes is: {best_hps.get('nodes_dense_3')} activation {best_hps.get('Activation_layer_3')}\",\n",
    ")"
   ]
  },
  {
   "attachments": {},
   "cell_type": "markdown",
   "metadata": {},
   "source": [
    "# RETRAIN MODEL BASED ON LEARNED BEST HPs"
   ]
  },
  {
   "cell_type": "code",
   "execution_count": 19,
   "metadata": {},
   "outputs": [
    {
     "name": "stdout",
     "output_type": "stream",
     "text": [
      "Epoch 1/55\n",
      "64/64 [==============================] - 5s 46ms/step - loss: 6.9658 - accuracy: 0.4253 - val_loss: 1.1559 - val_accuracy: 0.6016\n",
      "Epoch 2/55\n",
      "64/64 [==============================] - 2s 39ms/step - loss: 0.7872 - accuracy: 0.6978 - val_loss: 0.5947 - val_accuracy: 0.7246\n",
      "Epoch 3/55\n",
      "64/64 [==============================] - 3s 41ms/step - loss: 0.6007 - accuracy: 0.7593 - val_loss: 0.6417 - val_accuracy: 0.7656\n",
      "Epoch 4/55\n",
      "64/64 [==============================] - 3s 41ms/step - loss: 0.6121 - accuracy: 0.7593 - val_loss: 0.4892 - val_accuracy: 0.8008\n",
      "Epoch 5/55\n",
      "64/64 [==============================] - 3s 40ms/step - loss: 0.4401 - accuracy: 0.8154 - val_loss: 0.4898 - val_accuracy: 0.7773\n",
      "Epoch 6/55\n",
      "64/64 [==============================] - 3s 42ms/step - loss: 0.4434 - accuracy: 0.8403 - val_loss: 1.0217 - val_accuracy: 0.7070\n",
      "Epoch 7/55\n",
      "64/64 [==============================] - 3s 42ms/step - loss: 0.4821 - accuracy: 0.7944 - val_loss: 0.3731 - val_accuracy: 0.8379\n",
      "Epoch 8/55\n",
      "64/64 [==============================] - 3s 41ms/step - loss: 0.3787 - accuracy: 0.8452 - val_loss: 0.4404 - val_accuracy: 0.8320\n",
      "Epoch 9/55\n",
      "64/64 [==============================] - 3s 42ms/step - loss: 0.4045 - accuracy: 0.8350 - val_loss: 0.2338 - val_accuracy: 0.8711\n",
      "Epoch 10/55\n",
      "64/64 [==============================] - 3s 41ms/step - loss: 0.3613 - accuracy: 0.8486 - val_loss: 0.2282 - val_accuracy: 0.8613\n",
      "Epoch 11/55\n",
      "64/64 [==============================] - 3s 41ms/step - loss: 0.3599 - accuracy: 0.8486 - val_loss: 0.2585 - val_accuracy: 0.9023\n",
      "Epoch 12/55\n",
      "64/64 [==============================] - 3s 40ms/step - loss: 0.4340 - accuracy: 0.8296 - val_loss: 0.3016 - val_accuracy: 0.8691\n",
      "Epoch 13/55\n",
      "64/64 [==============================] - 3s 42ms/step - loss: 0.3154 - accuracy: 0.8584 - val_loss: 0.1892 - val_accuracy: 0.9824\n",
      "Epoch 14/55\n",
      "64/64 [==============================] - 3s 44ms/step - loss: 0.2544 - accuracy: 0.8853 - val_loss: 0.2303 - val_accuracy: 0.8730\n",
      "Epoch 15/55\n",
      "64/64 [==============================] - 3s 42ms/step - loss: 0.2782 - accuracy: 0.8711 - val_loss: 0.2276 - val_accuracy: 0.8730\n",
      "Epoch 16/55\n",
      "64/64 [==============================] - 3s 43ms/step - loss: 0.2366 - accuracy: 0.8857 - val_loss: 0.2010 - val_accuracy: 0.8730\n",
      "Epoch 17/55\n",
      "64/64 [==============================] - 3s 45ms/step - loss: 0.2370 - accuracy: 0.8882 - val_loss: 0.3089 - val_accuracy: 0.8613\n",
      "Epoch 18/55\n",
      "64/64 [==============================] - 3s 41ms/step - loss: 0.2927 - accuracy: 0.8677 - val_loss: 0.3766 - val_accuracy: 0.8145\n",
      "Epoch 19/55\n",
      "64/64 [==============================] - 3s 42ms/step - loss: 0.2718 - accuracy: 0.8701 - val_loss: 0.1885 - val_accuracy: 0.8926\n",
      "Epoch 20/55\n",
      "64/64 [==============================] - 3s 43ms/step - loss: 0.2056 - accuracy: 0.8843 - val_loss: 0.1563 - val_accuracy: 0.9727\n",
      "Epoch 21/55\n",
      "64/64 [==============================] - 3s 40ms/step - loss: 0.2094 - accuracy: 0.9087 - val_loss: 0.2066 - val_accuracy: 0.8809\n",
      "Epoch 22/55\n",
      "64/64 [==============================] - 3s 40ms/step - loss: 0.2180 - accuracy: 0.8984 - val_loss: 0.1445 - val_accuracy: 0.9629\n",
      "Epoch 23/55\n",
      "64/64 [==============================] - 3s 40ms/step - loss: 0.2923 - accuracy: 0.8989 - val_loss: 0.3660 - val_accuracy: 0.8613\n",
      "Epoch 24/55\n",
      "64/64 [==============================] - 3s 42ms/step - loss: 0.2505 - accuracy: 0.8809 - val_loss: 0.1633 - val_accuracy: 0.8848\n",
      "Epoch 25/55\n",
      "64/64 [==============================] - 3s 41ms/step - loss: 0.1902 - accuracy: 0.8911 - val_loss: 0.1333 - val_accuracy: 0.9629\n",
      "Epoch 26/55\n",
      "64/64 [==============================] - 3s 43ms/step - loss: 0.1771 - accuracy: 0.9121 - val_loss: 0.1278 - val_accuracy: 0.9551\n",
      "Epoch 27/55\n",
      "64/64 [==============================] - 3s 43ms/step - loss: 0.1918 - accuracy: 0.9160 - val_loss: 0.2006 - val_accuracy: 0.9023\n",
      "Epoch 28/55\n",
      "64/64 [==============================] - 3s 41ms/step - loss: 0.2349 - accuracy: 0.8936 - val_loss: 0.2812 - val_accuracy: 0.9512\n",
      "Epoch 29/55\n",
      "64/64 [==============================] - 3s 45ms/step - loss: 2.0886 - accuracy: 0.6733 - val_loss: 1.2694 - val_accuracy: 0.7324\n",
      "Epoch 30/55\n",
      "64/64 [==============================] - 3s 42ms/step - loss: 0.4214 - accuracy: 0.8403 - val_loss: 0.2012 - val_accuracy: 0.8613\n",
      "Epoch 31/55\n",
      "64/64 [==============================] - 3s 42ms/step - loss: 0.2492 - accuracy: 0.8784 - val_loss: 0.1787 - val_accuracy: 0.9707\n",
      "Epoch 32/55\n",
      "64/64 [==============================] - 3s 44ms/step - loss: 0.1879 - accuracy: 0.9185 - val_loss: 0.1513 - val_accuracy: 0.9434\n",
      "Epoch 33/55\n",
      "64/64 [==============================] - 3s 42ms/step - loss: 0.1792 - accuracy: 0.9229 - val_loss: 0.1548 - val_accuracy: 0.9492\n",
      "Epoch 34/55\n",
      "64/64 [==============================] - 3s 41ms/step - loss: 0.2240 - accuracy: 0.8896 - val_loss: 0.1620 - val_accuracy: 0.8848\n",
      "Epoch 35/55\n",
      "64/64 [==============================] - 3s 44ms/step - loss: 0.2269 - accuracy: 0.8989 - val_loss: 0.1461 - val_accuracy: 0.9746\n",
      "Epoch 36/55\n",
      "64/64 [==============================] - 3s 43ms/step - loss: 0.1682 - accuracy: 0.9209 - val_loss: 0.1312 - val_accuracy: 0.9785\n",
      "Epoch 37/55\n",
      "64/64 [==============================] - 3s 44ms/step - loss: 0.1982 - accuracy: 0.9077 - val_loss: 0.3663 - val_accuracy: 0.8848\n",
      "Epoch 38/55\n",
      "64/64 [==============================] - 3s 44ms/step - loss: 0.2038 - accuracy: 0.9141 - val_loss: 0.1301 - val_accuracy: 0.9805\n",
      "Epoch 39/55\n",
      "64/64 [==============================] - 3s 42ms/step - loss: 0.1427 - accuracy: 0.9409 - val_loss: 0.1318 - val_accuracy: 0.9023\n",
      "Epoch 40/55\n",
      "64/64 [==============================] - 3s 42ms/step - loss: 0.1715 - accuracy: 0.9180 - val_loss: 0.1149 - val_accuracy: 0.9629\n",
      "Epoch 41/55\n",
      "64/64 [==============================] - 3s 44ms/step - loss: 0.1562 - accuracy: 0.9282 - val_loss: 0.1526 - val_accuracy: 0.9258\n",
      "Epoch 42/55\n",
      "64/64 [==============================] - 3s 42ms/step - loss: 0.1858 - accuracy: 0.9141 - val_loss: 0.1546 - val_accuracy: 0.8711\n",
      "Epoch 43/55\n",
      "64/64 [==============================] - 3s 45ms/step - loss: 0.1559 - accuracy: 0.9375 - val_loss: 0.1115 - val_accuracy: 0.9551\n",
      "Epoch 44/55\n",
      "64/64 [==============================] - 3s 42ms/step - loss: 0.1289 - accuracy: 0.9443 - val_loss: 0.1055 - val_accuracy: 0.9629\n",
      "Epoch 45/55\n",
      "64/64 [==============================] - 3s 44ms/step - loss: 0.1298 - accuracy: 0.9409 - val_loss: 0.1051 - val_accuracy: 0.9824\n",
      "Epoch 46/55\n",
      "64/64 [==============================] - 3s 42ms/step - loss: 0.1326 - accuracy: 0.9429 - val_loss: 0.1422 - val_accuracy: 0.9551\n",
      "Epoch 47/55\n",
      "64/64 [==============================] - 3s 43ms/step - loss: 0.1265 - accuracy: 0.9487 - val_loss: 0.0996 - val_accuracy: 0.9551\n",
      "Epoch 48/55\n",
      "64/64 [==============================] - 3s 46ms/step - loss: 0.1316 - accuracy: 0.9395 - val_loss: 0.1300 - val_accuracy: 0.8945\n",
      "Epoch 49/55\n",
      "64/64 [==============================] - 3s 45ms/step - loss: 0.1298 - accuracy: 0.9443 - val_loss: 0.1994 - val_accuracy: 0.8848\n",
      "Epoch 50/55\n",
      "64/64 [==============================] - 3s 44ms/step - loss: 0.1944 - accuracy: 0.9141 - val_loss: 0.1195 - val_accuracy: 0.9531\n",
      "Epoch 51/55\n",
      "64/64 [==============================] - 3s 43ms/step - loss: 0.1190 - accuracy: 0.9492 - val_loss: 0.1166 - val_accuracy: 0.9551\n",
      "Epoch 52/55\n",
      "64/64 [==============================] - 3s 49ms/step - loss: 0.1466 - accuracy: 0.9341 - val_loss: 0.1476 - val_accuracy: 0.8945\n",
      "Epoch 53/55\n",
      "64/64 [==============================] - 3s 43ms/step - loss: 0.1269 - accuracy: 0.9404 - val_loss: 0.0897 - val_accuracy: 0.9844\n",
      "Epoch 54/55\n",
      "64/64 [==============================] - 3s 44ms/step - loss: 0.1185 - accuracy: 0.9478 - val_loss: 0.1115 - val_accuracy: 0.9062\n",
      "Epoch 55/55\n",
      "64/64 [==============================] - 3s 44ms/step - loss: 0.1596 - accuracy: 0.9341 - val_loss: 0.2486 - val_accuracy: 0.8223\n",
      "Best epoch: 53\n"
     ]
    }
   ],
   "source": [
    "model = tuner.hypermodel.build(best_hps)\n",
    "history = model.fit(X_train, y_train, epochs=55, validation_split=0.2)\n",
    "\n",
    "val_acc_per_epoch = history.history['val_accuracy']\n",
    "best_epoch = val_acc_per_epoch.index(max(val_acc_per_epoch)) + 1\n",
    "print('Best epoch: %d' % (best_epoch,))\n"
   ]
  },
  {
   "attachments": {},
   "cell_type": "markdown",
   "metadata": {},
   "source": [
    "# The number of epochs that gave the best highest validation accuracy"
   ]
  },
  {
   "cell_type": "code",
   "execution_count": 20,
   "metadata": {},
   "outputs": [
    {
     "data": {
      "text/plain": [
       "53"
      ]
     },
     "execution_count": 20,
     "metadata": {},
     "output_type": "execute_result"
    }
   ],
   "source": [
    "best_epoch"
   ]
  },
  {
   "attachments": {},
   "cell_type": "markdown",
   "metadata": {},
   "source": [
    "# Retrain Model using optimal epochs"
   ]
  },
  {
   "cell_type": "code",
   "execution_count": 23,
   "metadata": {},
   "outputs": [
    {
     "name": "stdout",
     "output_type": "stream",
     "text": [
      "Epoch 1/53\n",
      "64/64 [==============================] - 4s 46ms/step - loss: 7.6845 - accuracy: 0.4170 - val_loss: 0.9840 - val_accuracy: 0.6582\n",
      "Epoch 2/53\n",
      "64/64 [==============================] - 3s 42ms/step - loss: 1.0209 - accuracy: 0.6782 - val_loss: 0.5567 - val_accuracy: 0.7637\n",
      "Epoch 3/53\n",
      "64/64 [==============================] - 3s 40ms/step - loss: 0.5985 - accuracy: 0.7490 - val_loss: 0.4367 - val_accuracy: 0.8496\n",
      "Epoch 4/53\n",
      "64/64 [==============================] - 3s 39ms/step - loss: 0.6072 - accuracy: 0.7529 - val_loss: 0.5631 - val_accuracy: 0.7676\n",
      "Epoch 5/53\n",
      "64/64 [==============================] - 3s 41ms/step - loss: 0.5459 - accuracy: 0.7812 - val_loss: 0.7755 - val_accuracy: 0.8535\n",
      "Epoch 6/53\n",
      "64/64 [==============================] - 3s 44ms/step - loss: 0.7891 - accuracy: 0.7837 - val_loss: 0.4899 - val_accuracy: 0.7852\n",
      "Epoch 7/53\n",
      "64/64 [==============================] - 3s 41ms/step - loss: 0.4663 - accuracy: 0.8062 - val_loss: 0.3199 - val_accuracy: 0.8984\n",
      "Epoch 8/53\n",
      "64/64 [==============================] - 3s 42ms/step - loss: 0.5838 - accuracy: 0.7744 - val_loss: 0.4505 - val_accuracy: 0.8105\n",
      "Epoch 9/53\n",
      "64/64 [==============================] - 3s 41ms/step - loss: 0.4996 - accuracy: 0.7993 - val_loss: 0.3584 - val_accuracy: 0.8672\n",
      "Epoch 10/53\n",
      "64/64 [==============================] - 3s 40ms/step - loss: 0.4796 - accuracy: 0.8145 - val_loss: 0.2961 - val_accuracy: 0.8359\n",
      "Epoch 11/53\n",
      "64/64 [==============================] - 3s 42ms/step - loss: 0.4509 - accuracy: 0.8228 - val_loss: 0.2695 - val_accuracy: 0.8906\n",
      "Epoch 12/53\n",
      "64/64 [==============================] - 3s 40ms/step - loss: 0.4007 - accuracy: 0.8330 - val_loss: 0.3741 - val_accuracy: 0.8379\n",
      "Epoch 13/53\n",
      "64/64 [==============================] - 3s 40ms/step - loss: 0.4475 - accuracy: 0.8247 - val_loss: 0.3127 - val_accuracy: 0.8809\n",
      "Epoch 14/53\n",
      "64/64 [==============================] - 3s 43ms/step - loss: 0.4352 - accuracy: 0.8428 - val_loss: 0.3231 - val_accuracy: 0.8477\n",
      "Epoch 15/53\n",
      "64/64 [==============================] - 3s 42ms/step - loss: 0.2926 - accuracy: 0.8657 - val_loss: 0.2457 - val_accuracy: 0.8613\n",
      "Epoch 16/53\n",
      "64/64 [==============================] - 3s 40ms/step - loss: 0.4708 - accuracy: 0.8135 - val_loss: 0.4493 - val_accuracy: 0.8242\n",
      "Epoch 17/53\n",
      "64/64 [==============================] - 3s 44ms/step - loss: 0.3229 - accuracy: 0.8569 - val_loss: 0.3196 - val_accuracy: 0.8633\n",
      "Epoch 18/53\n",
      "64/64 [==============================] - 3s 43ms/step - loss: 0.2688 - accuracy: 0.8750 - val_loss: 0.2269 - val_accuracy: 0.8750\n",
      "Epoch 19/53\n",
      "64/64 [==============================] - 3s 42ms/step - loss: 0.2376 - accuracy: 0.8770 - val_loss: 0.1828 - val_accuracy: 0.9199\n",
      "Epoch 20/53\n",
      "64/64 [==============================] - 3s 41ms/step - loss: 0.2248 - accuracy: 0.8857 - val_loss: 0.2119 - val_accuracy: 0.8730\n",
      "Epoch 21/53\n",
      "64/64 [==============================] - 3s 50ms/step - loss: 0.2900 - accuracy: 0.8691 - val_loss: 0.3656 - val_accuracy: 0.8613\n",
      "Epoch 22/53\n",
      "64/64 [==============================] - 4s 58ms/step - loss: 0.3012 - accuracy: 0.8706 - val_loss: 0.2471 - val_accuracy: 0.8730\n",
      "Epoch 23/53\n",
      "64/64 [==============================] - 4s 62ms/step - loss: 0.2663 - accuracy: 0.8730 - val_loss: 0.4950 - val_accuracy: 0.8652\n",
      "Epoch 24/53\n",
      "64/64 [==============================] - 4s 63ms/step - loss: 0.2879 - accuracy: 0.8662 - val_loss: 0.1729 - val_accuracy: 0.9688\n",
      "Epoch 25/53\n",
      "64/64 [==============================] - 3s 50ms/step - loss: 0.2274 - accuracy: 0.8813 - val_loss: 0.3424 - val_accuracy: 0.8887\n",
      "Epoch 26/53\n",
      "64/64 [==============================] - 3s 45ms/step - loss: 0.3881 - accuracy: 0.8589 - val_loss: 0.3384 - val_accuracy: 0.8184\n",
      "Epoch 27/53\n",
      "64/64 [==============================] - 3s 45ms/step - loss: 0.3340 - accuracy: 0.8560 - val_loss: 0.1885 - val_accuracy: 0.8848\n",
      "Epoch 28/53\n",
      "64/64 [==============================] - 3s 42ms/step - loss: 0.2428 - accuracy: 0.8794 - val_loss: 0.2366 - val_accuracy: 0.8613\n",
      "Epoch 29/53\n",
      "64/64 [==============================] - 3s 48ms/step - loss: 0.3177 - accuracy: 0.8716 - val_loss: 0.1552 - val_accuracy: 0.9492\n",
      "Epoch 30/53\n",
      "64/64 [==============================] - 3s 47ms/step - loss: 0.2387 - accuracy: 0.8921 - val_loss: 0.3721 - val_accuracy: 0.8730\n",
      "Epoch 31/53\n",
      "64/64 [==============================] - 3s 43ms/step - loss: 0.2407 - accuracy: 0.8823 - val_loss: 0.1658 - val_accuracy: 0.9492\n",
      "Epoch 32/53\n",
      "64/64 [==============================] - 3s 49ms/step - loss: 0.2161 - accuracy: 0.8872 - val_loss: 0.1967 - val_accuracy: 0.9141\n",
      "Epoch 33/53\n",
      "64/64 [==============================] - 3s 44ms/step - loss: 0.1877 - accuracy: 0.9058 - val_loss: 0.1508 - val_accuracy: 0.9434\n",
      "Epoch 34/53\n",
      "64/64 [==============================] - 3s 42ms/step - loss: 0.1908 - accuracy: 0.9028 - val_loss: 0.2105 - val_accuracy: 0.9141\n",
      "Epoch 35/53\n",
      "64/64 [==============================] - 3s 45ms/step - loss: 0.1775 - accuracy: 0.9121 - val_loss: 0.1754 - val_accuracy: 0.9141\n",
      "Epoch 36/53\n",
      "64/64 [==============================] - 3s 44ms/step - loss: 0.1838 - accuracy: 0.9082 - val_loss: 0.1376 - val_accuracy: 0.9551\n",
      "Epoch 37/53\n",
      "64/64 [==============================] - 3s 45ms/step - loss: 0.2095 - accuracy: 0.8936 - val_loss: 0.1500 - val_accuracy: 0.9570\n",
      "Epoch 38/53\n",
      "64/64 [==============================] - 3s 44ms/step - loss: 0.1805 - accuracy: 0.9097 - val_loss: 0.1352 - val_accuracy: 0.9844\n",
      "Epoch 39/53\n",
      "64/64 [==============================] - 3s 41ms/step - loss: 0.1947 - accuracy: 0.9077 - val_loss: 0.1506 - val_accuracy: 0.9492\n",
      "Epoch 40/53\n",
      "64/64 [==============================] - 3s 41ms/step - loss: 0.1577 - accuracy: 0.9248 - val_loss: 0.1335 - val_accuracy: 0.9551\n",
      "Epoch 41/53\n",
      "64/64 [==============================] - 3s 42ms/step - loss: 0.1769 - accuracy: 0.9097 - val_loss: 0.1353 - val_accuracy: 0.9883\n",
      "Epoch 42/53\n",
      "64/64 [==============================] - 3s 44ms/step - loss: 0.1625 - accuracy: 0.9180 - val_loss: 0.1907 - val_accuracy: 0.8730\n",
      "Epoch 43/53\n",
      "64/64 [==============================] - 3s 44ms/step - loss: 0.1562 - accuracy: 0.9233 - val_loss: 0.1178 - val_accuracy: 0.9805\n",
      "Epoch 44/53\n",
      "64/64 [==============================] - 3s 41ms/step - loss: 0.1488 - accuracy: 0.9360 - val_loss: 0.1913 - val_accuracy: 0.8848\n",
      "Epoch 45/53\n",
      "64/64 [==============================] - 3s 41ms/step - loss: 0.1305 - accuracy: 0.9365 - val_loss: 0.1196 - val_accuracy: 0.9629\n",
      "Epoch 46/53\n",
      "64/64 [==============================] - 3s 43ms/step - loss: 0.1794 - accuracy: 0.9277 - val_loss: 0.1478 - val_accuracy: 0.9570\n",
      "Epoch 47/53\n",
      "64/64 [==============================] - 3s 43ms/step - loss: 0.1952 - accuracy: 0.9019 - val_loss: 0.3899 - val_accuracy: 0.8379\n",
      "Epoch 48/53\n",
      "64/64 [==============================] - 3s 43ms/step - loss: 0.2164 - accuracy: 0.9033 - val_loss: 0.2342 - val_accuracy: 0.9043\n",
      "Epoch 49/53\n",
      "64/64 [==============================] - 3s 43ms/step - loss: 0.1473 - accuracy: 0.9409 - val_loss: 0.1854 - val_accuracy: 0.8848\n",
      "Epoch 50/53\n",
      "64/64 [==============================] - 3s 45ms/step - loss: 0.2164 - accuracy: 0.8994 - val_loss: 0.2280 - val_accuracy: 0.8906\n",
      "Epoch 51/53\n",
      "64/64 [==============================] - 3s 44ms/step - loss: 0.2550 - accuracy: 0.9004 - val_loss: 0.1373 - val_accuracy: 0.9102\n",
      "Epoch 52/53\n",
      "64/64 [==============================] - 3s 45ms/step - loss: 0.1368 - accuracy: 0.9380 - val_loss: 0.1075 - val_accuracy: 0.9629\n",
      "Epoch 53/53\n",
      "64/64 [==============================] - 3s 46ms/step - loss: 0.1118 - accuracy: 0.9561 - val_loss: 0.1073 - val_accuracy: 0.9551\n"
     ]
    },
    {
     "data": {
      "text/plain": [
       "<keras.src.callbacks.History at 0x216482f86d0>"
      ]
     },
     "execution_count": 23,
     "metadata": {},
     "output_type": "execute_result"
    }
   ],
   "source": [
    "hypermodel = tuner.hypermodel.build(best_hps)\n",
    "\n",
    "# Retrain the model\n",
    "hypermodel.fit(X_train, y_train, epochs=best_epoch, validation_split=0.2)\n"
   ]
  },
  {
   "attachments": {},
   "cell_type": "markdown",
   "metadata": {},
   "source": [
    "# MODEL SUMMARY"
   ]
  },
  {
   "cell_type": "code",
   "execution_count": 1,
   "metadata": {},
   "outputs": [
    {
     "ename": "NameError",
     "evalue": "name 'hypermodel' is not defined",
     "output_type": "error",
     "traceback": [
      "\u001b[1;31m---------------------------------------------------------------------------\u001b[0m",
      "\u001b[1;31mNameError\u001b[0m                                 Traceback (most recent call last)",
      "Cell \u001b[1;32mIn[1], line 1\u001b[0m\n\u001b[1;32m----> 1\u001b[0m hypermodel\u001b[39m.\u001b[39msummary()\n",
      "\u001b[1;31mNameError\u001b[0m: name 'hypermodel' is not defined"
     ]
    }
   ],
   "source": [
    "hypermodel.summary()"
   ]
  },
  {
   "attachments": {},
   "cell_type": "markdown",
   "metadata": {},
   "source": [
    "## EVALUTAE BASED ON ACCURACY ALONE"
   ]
  },
  {
   "cell_type": "code",
   "execution_count": 21,
   "metadata": {},
   "outputs": [
    {
     "name": "stdout",
     "output_type": "stream",
     "text": [
      "20/20 [==============================] - 0s 20ms/step - loss: 0.2551 - accuracy: 0.8047\n",
      "[test loss, test accuracy]: [0.25511178374290466, 0.8046875]\n"
     ]
    }
   ],
   "source": [
    "eval_result = model.evaluate(X_test, y_test)\n",
    "print(\"[test loss, test accuracy]:\", eval_result)"
   ]
  },
  {
   "cell_type": "code",
   "execution_count": 24,
   "metadata": {},
   "outputs": [
    {
     "name": "stdout",
     "output_type": "stream",
     "text": [
      "20/20 [==============================] - 0s 14ms/step - loss: 0.0951 - accuracy: 0.9656\n",
      "[test loss, test accuracy]: [0.09512291848659515, 0.965624988079071]\n"
     ]
    }
   ],
   "source": [
    "eval_result = hypermodel.evaluate(X_test, y_test)\n",
    "print(\"[test loss, test accuracy]:\", eval_result)\n"
   ]
  },
  {
   "cell_type": "code",
   "execution_count": 25,
   "metadata": {},
   "outputs": [
    {
     "name": "stdout",
     "output_type": "stream",
     "text": [
      "20/20 - 0s - loss: 0.2551 - accuracy: 0.8047 - 272ms/epoch - 14ms/step\n"
     ]
    },
    {
     "data": {
      "image/png": "[encoded data removed]",
      "text/plain": [
       "<Figure size 640x480 with 1 Axes>"
      ]
     },
     "metadata": {},
     "output_type": "display_data"
    }
   ],
   "source": [
    "plt.plot(history.history['accuracy'], label='accuracy')\n",
    "plt.plot(history.history['val_accuracy'], label = 'val_accuracy')\n",
    "plt.xlabel('Epoch')\n",
    "plt.ylabel('Accuracy')\n",
    "plt.ylim([0.5, 1])\n",
    "plt.legend(loc='lower right')\n",
    "\n",
    "test_loss, test_acc = model.evaluate(X_test,  y_test, verbose=2)"
   ]
  },
  {
   "cell_type": "code",
   "execution_count": 26,
   "metadata": {},
   "outputs": [
    {
     "name": "stdout",
     "output_type": "stream",
     "text": [
      "20/20 [==============================] - 0s 14ms/step\n"
     ]
    }
   ],
   "source": [
    "y_preds = hypermodel.predict(X_test)\n",
    "y_true = y_test"
   ]
  },
  {
   "cell_type": "code",
   "execution_count": 27,
   "metadata": {},
   "outputs": [],
   "source": [
    "all_y_preds = y_preds.argmax(axis=1)"
   ]
  },
  {
   "cell_type": "code",
   "execution_count": 28,
   "metadata": {},
   "outputs": [],
   "source": [
    "y_preds = np.array([[val] for val in all_y_preds])"
   ]
  },
  {
   "cell_type": "code",
   "execution_count": 29,
   "metadata": {},
   "outputs": [
    {
     "name": "stdout",
     "output_type": "stream",
     "text": [
      "              precision    recall  f1-score   support\n",
      "\n",
      "         0.0       1.00      1.00      1.00        96\n",
      "         1.0       0.81      1.00      0.89        92\n",
      "         2.0       1.00      1.00      1.00        86\n",
      "         3.0       1.00      1.00      1.00        69\n",
      "         4.0       1.00      1.00      1.00        81\n",
      "         5.0       1.00      1.00      1.00        83\n",
      "         6.0       1.00      0.65      0.79        63\n",
      "         7.0       1.00      1.00      1.00        70\n",
      "\n",
      "    accuracy                           0.97       640\n",
      "   macro avg       0.98      0.96      0.96       640\n",
      "weighted avg       0.97      0.97      0.96       640\n",
      "\n"
     ]
    }
   ],
   "source": [
    "print(classification_report(y_pred=y_preds, y_true=y_true, ))"
   ]
  },
  {
   "cell_type": "code",
   "execution_count": 36,
   "metadata": {},
   "outputs": [],
   "source": [
    "all_labels = [\n",
    "    'Steady State', 'Transients', \n",
    "    'Incremental load change', \n",
    "    'Decremental load change', \n",
    "    'Breaker opening', 'Sensor fault', \n",
    "    'Stealthy fdia', 'FDIA'\n",
    "    ]"
   ]
  },
  {
   "cell_type": "code",
   "execution_count": 72,
   "metadata": {},
   "outputs": [
    {
     "data": {
      "text/plain": [
       "<sklearn.metrics._plot.confusion_matrix.ConfusionMatrixDisplay at 0x2166a794fd0>"
      ]
     },
     "execution_count": 72,
     "metadata": {},
     "output_type": "execute_result"
    },
    {
     "data": {
      "image/png": "[encoded data removed]",
      "text/plain": [
       "<Figure size 12000x2000 with 2 Axes>"
      ]
     },
     "metadata": {},
     "output_type": "display_data"
    }
   ],
   "source": [
    "fig, ax = plt.subplots(figsize=(120,20))\n",
    "cm = confusion_matrix(y_true, y_preds, labels=[0, 1, 2, 3, 4, 5, 6, 7])\n",
    "disp = ConfusionMatrixDisplay(confusion_matrix=cm, display_labels=all_labels,)\n",
    "\n",
    "disp.plot(ax=ax)"
   ]
  },
  {
   "cell_type": "code",
   "execution_count": null,
   "metadata": {},
   "outputs": [],
   "source": []
  }
 ],
 "metadata": {
  "kernelspec": {
   "display_name": "project",
   "language": "python",
   "name": "python3"
  },
  "language_info": {
   "codemirror_mode": {
    "name": "ipython",
    "version": 3
   },
   "file_extension": ".py",
   "mimetype": "text/x-python",
   "name": "python",
   "nbconvert_exporter": "python",
   "pygments_lexer": "ipython3",
   "version": "3.8.17"
  },
  "orig_nbformat": 4
 },
 "nbformat": 4,
 "nbformat_minor": 2
}
