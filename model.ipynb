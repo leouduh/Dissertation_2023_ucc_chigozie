{
 "cells": [
  {
   "attachments": {},
   "cell_type": "markdown",
   "metadata": {},
   "source": [
    "# IMPORT THE PACKAGES NEEEDED"
   ]
  },
  {
   "cell_type": "code",
   "execution_count": 1,
   "metadata": {},
   "outputs": [],
   "source": [
    "import joblib\n",
    "import matplotlib.pyplot as plt\n",
    "import numpy as np\n",
    "import pandas as pd\n",
    "import tensorflow as tf\n",
    "from tensorflow import keras\n",
    "from tensorflow.keras import models, layers\n",
    "import keras_tuner as kt\n",
    "import sklearn\n",
    "from sklearn.metrics import classification_report, confusion_matrix, ConfusionMatrixDisplay\n",
    "from sklearn.model_selection import train_test_split\n"
   ]
  },
  {
   "attachments": {},
   "cell_type": "markdown",
   "metadata": {},
   "source": [
    "## LOAD ALL THE FILES NEEDED"
   ]
  },
  {
   "attachments": {},
   "cell_type": "markdown",
   "metadata": {},
   "source": [
    "\n",
    "Steady_state_transients_df---->  DataFrame of examples for both steady state and transients Active Power, Frequency, Voltage, and Reactive Power\n",
    "Steady_state_transients_df---->  numpy of target for both steady state and transients Active Power, Frequency, Voltage, and Reactive Power\n",
    "\n",
    "load_changes_incr_dcr_df---->  DataFrame of examples for both incremental and decremental load change- Active Power, Frequency, Voltage, and Reactive Power\n",
    "load_changes_incr_dcr_df---->  numpy of target for both incremental and decremental load change- Active Power, Frequency, Voltage, and Reactive Power\n",
    "\n",
    "breaker_opening_df---->  DataFrame of examples for breaker opening :Active Power, Frequency, Voltage, and Reactive Power\n",
    "breaker_opening_df---->  numpy of target for breaker opening: Active Power, Frequency, Voltage, and Reactive Power\n",
    "\n",
    "sensor_fault_df---->  DataFrame of examples for sensor fault: Active Power, Frequency, Voltage, and Reactive Power\n",
    "sensor_fault_df---->  numpy of target for sensor fault: Active Power, Frequency, Voltage, and Reactive Power\n",
    "\n",
    "stealthy_FDIA_df---->  DataFrame of examples for stealthy FDIA: Active Power, Frequency, Voltage, and Reactive Power\n",
    "stealthy_FDIA_df---->  numpy of target for stealthy FDIA: Active Power, Frequency, Voltage, and Reactive Power\n",
    "\n",
    "FDIA_df---->  DataFrame of examples for FDIA: Active Power, Frequency, Voltage, and Reactive Power\n",
    "FDIA_df---->  numpy of target for FDIA: Active Power, Frequency, Voltage, and Reactive Power"
   ]
  },
  {
   "cell_type": "code",
   "execution_count": 2,
   "metadata": {},
   "outputs": [],
   "source": [
    "waveform_1 = joblib.load('Steady_state_transients_df')\n",
    "targets_1 = joblib.load('Steady_state_transients_np')\n",
    "\n",
    "waveform_2 = joblib.load('load_changes_incr_dcr_df')\n",
    "targets_2 = joblib.load('load_changes_incr_dcr_np')\n",
    "\n",
    "waveform_3 = joblib.load('breaker_opening_df')\n",
    "targets_3 = joblib.load('breaker_opening_np')\n",
    "\n",
    "waveform_4 = joblib.load('sensor_fault_df')\n",
    "targets_4 = joblib.load('sensor_fault_np')\n",
    "\n",
    "waveform_5 = joblib.load('stealthy_FDIA_df')\n",
    "targets_5 = joblib.load('stealthy_FDIA_np')\n",
    "\n",
    "waveform_6 = joblib.load('fdia_df.joblib')\n",
    "targets_6 = joblib.load('fdia.joblib')\n"
   ]
  },
  {
   "attachments": {},
   "cell_type": "markdown",
   "metadata": {},
   "source": [
    "# Confirm that every class size is made up of 400 examples"
   ]
  },
  {
   "attachments": {},
   "cell_type": "markdown",
   "metadata": {},
   "source": [
    "### The integar representing the False data injection attack is represented as 8 but is changed to 7, making the class representations orderly...It is zero indexed"
   ]
  },
  {
   "attachments": {},
   "cell_type": "markdown",
   "metadata": {},
   "source": [
    "The numpy array to store the target for the FDIA is numbered 8, so that should be changed to 7, to make it easier to learn the model....Class id should follow each other ideally"
   ]
  },
  {
   "cell_type": "code",
   "execution_count": 3,
   "metadata": {},
   "outputs": [],
   "source": [
    "targets_6[targets_6 == [8]] = [7]"
   ]
  },
  {
   "cell_type": "code",
   "execution_count": 4,
   "metadata": {},
   "outputs": [
    {
     "name": "stdout",
     "output_type": "stream",
     "text": [
      "(array([0., 1.]), array([400, 400], dtype=int64))\n",
      "(array([2., 3.]), array([400, 400], dtype=int64))\n",
      "(array([4]), array([400], dtype=int64))\n",
      "(array([5.]), array([400], dtype=int64))\n",
      "(array([6]), array([400], dtype=int64))\n",
      "(array([7]), array([400], dtype=int64))\n"
     ]
    }
   ],
   "source": [
    "print(np.unique(targets_1, return_counts=True))\n",
    "print(np.unique(targets_2, return_counts=True))\n",
    "print(np.unique(targets_3, return_counts=True))\n",
    "print(np.unique(targets_4, return_counts=True))\n",
    "print(np.unique(targets_5, return_counts=True))\n",
    "print(np.unique(targets_6, return_counts=True))"
   ]
  },
  {
   "attachments": {},
   "cell_type": "markdown",
   "metadata": {},
   "source": [
    "As shown above class 0 to class 7, 8 classes in total all have 400 instances... NOt all unique but each scenarios was simulated at different loads..."
   ]
  },
  {
   "attachments": {},
   "cell_type": "markdown",
   "metadata": {},
   "source": [
    "## Create a list to contain tuples of the predictors prefixed with `waveform` and targets prefixed with `targets` so that they map to each other....predictor-target pairs for each scenario"
   ]
  },
  {
   "cell_type": "code",
   "execution_count": 5,
   "metadata": {},
   "outputs": [],
   "source": [
    "all_events = [\n",
    "    (waveform_1, targets_1), \n",
    "    (waveform_2, targets_2), \n",
    "    (waveform_3, targets_3), \n",
    "    (waveform_4, targets_4), \n",
    "    (waveform_5, targets_5), \n",
    "    (waveform_6, targets_6),\n",
    "]\n"
   ]
  },
  {
   "attachments": {},
   "cell_type": "markdown",
   "metadata": {},
   "source": [
    "## Create one dataframe to house all the examples of every class or scenario and one numpy array representing the class from 0 to 7\n",
    " In the dataframe for all examples, every 1000 samples is an instance\n",
    "\n",
    "0 - Transient\n",
    "\n",
    "1- Steady State\n",
    "\n",
    "2 - Incremental Load change\n",
    "\n",
    "3 - Decremental load change\n",
    "\n",
    "4 - Breaker opening\n",
    "\n",
    "5 - Sensor fault\n",
    "\n",
    "6 - Stealthy FDIA\n",
    "\n",
    "7 - FDIA\n"
   ]
  },
  {
   "cell_type": "code",
   "execution_count": 6,
   "metadata": {},
   "outputs": [],
   "source": [
    "for i, (power, pred_class) in enumerate(all_events):\n",
    "    if i == 0:\n",
    "        building_block = power\n",
    "        building_arr = pred_class\n",
    "    else:\n",
    "        building_block = pd.concat(\n",
    "            (building_block, power), ignore_index=True, axis=0\n",
    "        )\n",
    "        building_arr = np.append(building_arr, pred_class, axis=0)\n",
    "\n",
    "waveform = building_block\n",
    "all_targets = building_arr\n",
    "    "
   ]
  },
  {
   "attachments": {},
   "cell_type": "markdown",
   "metadata": {},
   "source": [
    "### There are a total of 3_200 instances meaning that there would be 3_200_000 rows in the dataframe capturing all examples: `waveform`"
   ]
  },
  {
   "cell_type": "code",
   "execution_count": 7,
   "metadata": {},
   "outputs": [
    {
     "name": "stdout",
     "output_type": "stream",
     "text": [
      "(3200000, 12) (3200, 1)\n",
      "3200\n"
     ]
    }
   ],
   "source": [
    "print(waveform.shape, all_targets.shape)\n",
    "n_instances = all_targets.shape[0]\n",
    "print(n_instances)"
   ]
  },
  {
   "attachments": {},
   "cell_type": "markdown",
   "metadata": {},
   "source": [
    "8 classes * 400 instances which is a total of 3_200 instances"
   ]
  },
  {
   "attachments": {},
   "cell_type": "markdown",
   "metadata": {},
   "source": [
    "## Confirm once again the class size of each class in the numpy array for all targets `all_targets`"
   ]
  },
  {
   "cell_type": "code",
   "execution_count": 8,
   "metadata": {},
   "outputs": [
    {
     "data": {
      "text/plain": [
       "(array([0., 1., 2., 3., 4., 5., 6., 7.]),\n",
       " array([400, 400, 400, 400, 400, 400, 400, 400], dtype=int64))"
      ]
     },
     "execution_count": 8,
     "metadata": {},
     "output_type": "execute_result"
    }
   ],
   "source": [
    "np.unique(all_targets, return_counts=True)"
   ]
  },
  {
   "attachments": {},
   "cell_type": "markdown",
   "metadata": {},
   "source": [
    "### Create template to organise the shape of the dataframe to hold all the instances synthesized. A multidimensional numpy is used for this....Each is gonna be 1000 by 3, 3 columns for active Power alone in all 3 phases.....This is where the other variables are dropped: Reactive power, Frequency, and voltage"
   ]
  },
  {
   "cell_type": "code",
   "execution_count": 9,
   "metadata": {},
   "outputs": [],
   "source": [
    "predictors = np.empty(shape=(0, 1000, 3))"
   ]
  },
  {
   "cell_type": "code",
   "execution_count": 10,
   "metadata": {},
   "outputs": [],
   "source": [
    "start, end = 0, 1\n",
    "for i in range(n_instances):\n",
    "    arr = np.array([waveform.iloc[start * 1_000: end * 1_000, 0:3].to_numpy(),])\n",
    "    predictors = np.append(predictors, arr, axis=0)\n",
    "    start += 1\n",
    "    end += 1"
   ]
  },
  {
   "attachments": {},
   "cell_type": "markdown",
   "metadata": {},
   "source": [
    "### There are 3_200 total instances, each have a dimension of 1_000 samples in 0.5 seconds for Active power in 3 lines"
   ]
  },
  {
   "cell_type": "code",
   "execution_count": 11,
   "metadata": {},
   "outputs": [
    {
     "data": {
      "text/plain": [
       "(3200, 1000, 3)"
      ]
     },
     "execution_count": 11,
     "metadata": {},
     "output_type": "execute_result"
    }
   ],
   "source": [
    "predictors.shape"
   ]
  },
  {
   "attachments": {},
   "cell_type": "markdown",
   "metadata": {},
   "source": [
    "## Use the test_train_split function imported to split the dataset into training and testing pairs, 30 percent for testing and 70 percent for training  "
   ]
  },
  {
   "cell_type": "code",
   "execution_count": 12,
   "metadata": {},
   "outputs": [],
   "source": [
    "X_train, X_test, y_train, y_test = train_test_split(predictors, all_targets, test_size=0.3, random_state=42)"
   ]
  },
  {
   "attachments": {},
   "cell_type": "markdown",
   "metadata": {},
   "source": [
    "### The `model_builder` function is to create the sequental model: two series of convolutions each followed by one pooling layer, the cnn is then fed into fully connected layers"
   ]
  },
  {
   "cell_type": "code",
   "execution_count": 13,
   "metadata": {},
   "outputs": [],
   "source": [
    "def model_builder(hp):\n",
    "    model = keras.Sequential()\n",
    "    #######################################\n",
    "    n_filters_1 = hp.Int('n_filters_convlayer1', min_value = 4, max_value=200, step=4)\n",
    "    kernel_1 = hp.Int('Kernel_convlayer_1', min_value=1, max_value=4, step=1)\n",
    "    padding_1 = hp.Choice('padding_1', values=['valid', 'same', 'causal'])\n",
    "    strides_1 = hp.Choice('strides_1', values=[1, 2, 3])\n",
    "    n_filters_2 = hp.Int('n_filters_convlayer2', min_value = 4, max_value=200, step=4)\n",
    "    kernel_2 = hp.Int('Kernel_convlayer_2', min_value=1, max_value=4, step=1)\n",
    "    padding_2 = hp.Choice('padding_2', values=['valid', 'same', 'causal'])\n",
    "    strides_2 = hp.Choice('strides_2', values=[1, 2,])\n",
    "    n_filters_3 = hp.Int('n_filters_convlayer3', min_value = 4, max_value=200, step=4)\n",
    "    kernel_3 = hp.Int('Kernel_convlayer_3', min_value=1, max_value=4, step=1)\n",
    "    padding_3 = hp.Choice('padding_3', values=['valid', 'same', 'causal'])\n",
    "    strides_3 = hp.Choice('strides_3', values=[1, 2,])\n",
    "    pool_1 = hp.Int('pool_1', min_value=2, max_value=4, step=1)\n",
    "    pool_2 = hp.Int('pool_2', min_value=2, max_value=8, step=1)\n",
    "    #####################################################################\n",
    "    n_filters_4 = hp.Int('n_filters_convlayer4', min_value = 4, max_value=200, step=4)\n",
    "    kernel_4 = hp.Int('Kernel_convlayer_4', min_value=1, max_value=4, step=1)\n",
    "    padding_4 = hp.Choice('padding_4', values=['valid', 'same', 'causal'])\n",
    "    strides_4 = hp.Choice('strides_4', values=[1, 2,])\n",
    "    n_filters_5 = hp.Int('n_filters_convlayer5', min_value = 4, max_value=200, step=4)\n",
    "    kernel_5 = hp.Int('Kernel_convlayer_5', min_value=1, max_value=4, step=1)\n",
    "    padding_5 = hp.Choice('padding_5', values=['valid', 'same', 'causal'])\n",
    "    strides_5 = hp.Choice('strides_5', values=[1, 2, ])\n",
    "    n_filters_6 = hp.Int('n_filters_convlayer6', min_value = 4, max_value=200, step=4)\n",
    "    kernel_6 = hp.Int('Kernel_convlayer_6', min_value=1, max_value=4, step=1)\n",
    "    padding_6 = hp.Choice('padding_6', values=['valid', 'same', 'causal'])\n",
    "    strides_6 = hp.Choice('strides_6', values=[1, 2, ])\n",
    "    n_filters_7 = hp.Int('n_filters_convlayer7', min_value = 4, max_value=200, step=4)\n",
    "    kernel_7 = hp.Int('Kernel_convlayer_7', min_value=1, max_value=3, step=1)\n",
    "    padding_7 = hp.Choice('padding_7', values=['valid', 'same', 'causal'])\n",
    "    strides_7 = hp.Choice('strides_7', values=[1, 2, 3,])\n",
    "    ###################################################################\n",
    "    model.add(layers.Conv1D(filters=n_filters_1, kernel_size=(kernel_1), activation='relu', input_shape=(1000, 3), padding=padding_1, strides=strides_1))\n",
    "    model.add(layers.Conv1D(filters=n_filters_2, kernel_size=(kernel_2), activation='relu', padding=padding_2, strides=strides_2))\n",
    "    model.add(layers.Conv1D(filters=n_filters_3, kernel_size=(kernel_3), activation='relu', padding=padding_3, strides=strides_3))\n",
    "    model.add(layers.MaxPooling1D((pool_1)))\n",
    "    #################################################\n",
    "    model.add(layers.Conv1D(n_filters_4, (kernel_4), activation='relu', input_shape=(1000, 3), padding=padding_4, strides=strides_4))\n",
    "    model.add(layers.Conv1D(n_filters_5, (kernel_5), activation='relu', padding=padding_5, strides=strides_5))\n",
    "    model.add(layers.Conv1D(n_filters_6, (kernel_6), activation='relu', padding=padding_6, strides=strides_6))\n",
    "    model.add(layers.Conv1D(n_filters_7, (kernel_7), activation='relu', padding=padding_7, strides=strides_7))\n",
    "    model.add(layers.MaxPooling1D((pool_2)))\n",
    "\n",
    "\n",
    "    ####################################\n",
    "    dense_nodes_1 = hp.Int('nodes_dense_1', min_value=4, max_value=512, step=16)\n",
    "    activation_1 = hp.Choice('Activation_layer_1', values=['relu', 'Softmax', 'sigmoid'])\n",
    "    dense_nodes_2 = hp.Int('nodes_dense_2', min_value=4, max_value=512, step=16)\n",
    "    activation_2 = hp.Choice('Activation_layer_2', values=['relu', 'Softmax', 'sigmoid'])\n",
    "    dense_nodes_3 = hp.Int('nodes_dense_3', min_value=4, max_value=512, step=16)\n",
    "    activation_3 = hp.Choice('Activation_layer_3', values=['relu', 'Softmax', 'sigmoid'])\n",
    "    model.add(layers.Flatten())\n",
    "    model.add(layers.Dense(units=dense_nodes_1, activation=activation_1))\n",
    "    model.add(layers.Dense(units=dense_nodes_2, activation=activation_2))\n",
    "    model.add(layers.Dense(units=dense_nodes_3, activation=activation_3))\n",
    "    model.add(layers.Dense(8))\n",
    "\n",
    "    hp_learning_rate = hp.Choice('learning_rate', values=[1e-2, 1e-3, 1e-4])\n",
    "\n",
    "    model.compile(optimizer=keras.optimizers.Adam(learning_rate=hp_learning_rate),\n",
    "                loss=keras.losses.SparseCategoricalCrossentropy(from_logits=True),\n",
    "                metrics=['accuracy'])\n",
    "\n",
    "    \n",
    "    return model"
   ]
  },
  {
   "attachments": {},
   "cell_type": "markdown",
   "metadata": {},
   "source": [
    "### create the Hyperband hyperparameter tuning job"
   ]
  },
  {
   "cell_type": "code",
   "execution_count": 14,
   "metadata": {},
   "outputs": [],
   "source": [
    "location = r'C:\\Users\\chigo\\OneDrive\\Desktop\\final_truth\\Dissertation_2023_ucc_chigozie',\n",
    "import keras_tuner as kt\n",
    "tuner = kt.Hyperband(model_builder,\n",
    "                     objective='val_accuracy',\n",
    "                     max_epochs=30,\n",
    "                     factor=3,\n",
    "            directory=location\n",
    "                     project_name='microgrid_project_1')\n"
   ]
  },
  {
   "attachments": {},
   "cell_type": "markdown",
   "metadata": {},
   "source": [
    "### Perform Hyperband hyperparameter tuning"
   ]
  },
  {
   "cell_type": "code",
   "execution_count": 15,
   "metadata": {},
   "outputs": [
    {
     "name": "stdout",
     "output_type": "stream",
     "text": [
      "Trial 73 Complete [00h 02m 36s]\n",
      "val_accuracy: 0.757440447807312\n",
      "\n",
      "Best val_accuracy So Far: 0.875\n",
      "Total elapsed time: 00h 26m 36s\n",
      "INFO:tensorflow:Oracle triggered exit\n"
     ]
    }
   ],
   "source": [
    "stop_early = tf.keras.callbacks.EarlyStopping(monitor='val_loss', patience=5)\n",
    "tuner.search(X_train, y_train, epochs=25,  validation_split=0.3, callbacks=[stop_early])\n",
    "\n",
    "best_hps=tuner.get_best_hyperparameters(num_trials=1)[0]\n",
    "\n",
    "\n"
   ]
  },
  {
   "cell_type": "code",
   "execution_count": 17,
   "metadata": {},
   "outputs": [
    {
     "name": "stdout",
     "output_type": "stream",
     "text": [
      "Convlayer 1 filters 188  Convlayer 1 kernel size 2  Convlayer 1 padding  causal \n",
      "Convlayer 2 filters {best_hps.get('n_filters_convlayer2')}  Convlayer 2 kernel size 2  Convlayer 2 padding  causal \n",
      "Convlayer 3 filters 20  Convlayer 3 kernel size 3  Convlayer 3 padding  same \n",
      "Convlayer 4 filters 116  Convlayer 4 kernel size 2  Convlayer 4 padding  valid \n",
      "Convlayer 5 filters 40  Convlayer 5 kernel size 1  Convlayer 5 padding  valid \n",
      "Convlayer 6 filters 4  Convlayer 6 kernel size 3  Convlayer 6 padding  causal \n",
      "Convlayer 7 filters 24  Convlayer 7 kernel size 2  Convlayer 7 padding  same \n",
      "first pooling size 3 Second pooling size 4\n",
      "Dense layer 1 nodes is: 484 activation relu Dense layer 2 nodes is: 356 activation relu Dense layer 3 nodes is: 468 activation relu\n"
     ]
    }
   ],
   "source": [
    "print(\n",
    "    f\"Convlayer 1 filters {best_hps.get('n_filters_convlayer1')} \",\n",
    "    f\"Convlayer 1 kernel size {best_hps.get('Kernel_convlayer_1')} \",\n",
    "    f\"Convlayer 1 padding  {best_hps.get('padding_1')} \",\n",
    ")\n",
    "print(\n",
    "    \"Convlayer 2 filters {best_hps.get('n_filters_convlayer2')} \",\n",
    "    f\"Convlayer 2 kernel size {best_hps.get('Kernel_convlayer_2')} \",\n",
    "    f\"Convlayer 2 padding  {best_hps.get('padding_2')} \",\n",
    ")\n",
    "print(\n",
    "    f\"Convlayer 3 filters {best_hps.get('n_filters_convlayer3')} \",\n",
    "    f\"Convlayer 3 kernel size {best_hps.get('Kernel_convlayer_3')} \",\n",
    "    f\"Convlayer 3 padding  {best_hps.get('padding_3')} \",\n",
    ")\n",
    "print(\n",
    "    f\"Convlayer 4 filters {best_hps.get('n_filters_convlayer4')} \",\n",
    "    f\"Convlayer 4 kernel size {best_hps.get('Kernel_convlayer_4')} \",\n",
    "    f\"Convlayer 4 padding  {best_hps.get('padding_4')} \",\n",
    ")\n",
    "print(\n",
    "    f\"Convlayer 5 filters {best_hps.get('n_filters_convlayer5')} \",\n",
    "    f\"Convlayer 5 kernel size {best_hps.get('Kernel_convlayer_5')} \",\n",
    "    f\"Convlayer 5 padding  {best_hps.get('padding_5')} \",\n",
    ")\n",
    "print(\n",
    "    f\"Convlayer 6 filters {best_hps.get('n_filters_convlayer6')} \",\n",
    "    f\"Convlayer 6 kernel size {best_hps.get('Kernel_convlayer_6')} \",\n",
    "    f\"Convlayer 6 padding  {best_hps.get('padding_6')} \",\n",
    ")\n",
    "print(\n",
    "    f\"Convlayer 7 filters {best_hps.get('n_filters_convlayer7')} \",\n",
    "    f\"Convlayer 7 kernel size {best_hps.get('Kernel_convlayer_7')} \",\n",
    "    f\"Convlayer 7 padding  {best_hps.get('padding_7')} \",\n",
    ")\n",
    "print(\n",
    "    f\"first pooling size {best_hps.get('pool_1')}\",\n",
    "    f\"Second pooling size {best_hps.get('pool_2')}\",\n",
    ")\n",
    "print(\n",
    "    f\"Dense layer 1 nodes is: {best_hps.get('nodes_dense_1')} activation {best_hps.get('Activation_layer_1')}\",\n",
    "    f\"Dense layer 2 nodes is: {best_hps.get('nodes_dense_2')} activation {best_hps.get('Activation_layer_2')}\",\n",
    "    f\"Dense layer 3 nodes is: {best_hps.get('nodes_dense_3')} activation {best_hps.get('Activation_layer_3')}\",\n",
    ")"
   ]
  },
  {
   "attachments": {},
   "cell_type": "markdown",
   "metadata": {},
   "source": [
    "# RETRAIN MODEL BASED ON LEARNED BEST HPs"
   ]
  },
  {
   "cell_type": "code",
   "execution_count": 21,
   "metadata": {},
   "outputs": [
    {
     "name": "stdout",
     "output_type": "stream",
     "text": [
      "Epoch 1/25\n",
      "56/56 [==============================] - 3s 35ms/step - loss: 1.6562 - accuracy: 0.4074 - val_loss: 1.1016 - val_accuracy: 0.5112\n",
      "Epoch 2/25\n",
      "56/56 [==============================] - 2s 35ms/step - loss: 1.0007 - accuracy: 0.5871 - val_loss: 0.8738 - val_accuracy: 0.6183\n",
      "Epoch 3/25\n",
      "56/56 [==============================] - 2s 33ms/step - loss: 0.8083 - accuracy: 0.6646 - val_loss: 0.7806 - val_accuracy: 0.6094\n",
      "Epoch 4/25\n",
      "56/56 [==============================] - 2s 35ms/step - loss: 0.8126 - accuracy: 0.6618 - val_loss: 0.6882 - val_accuracy: 0.7612\n",
      "Epoch 5/25\n",
      "56/56 [==============================] - 2s 34ms/step - loss: 0.7690 - accuracy: 0.6657 - val_loss: 0.7396 - val_accuracy: 0.6004\n",
      "Epoch 6/25\n",
      "56/56 [==============================] - 2s 34ms/step - loss: 0.6303 - accuracy: 0.7327 - val_loss: 0.5317 - val_accuracy: 0.7946\n",
      "Epoch 7/25\n",
      "56/56 [==============================] - 2s 34ms/step - loss: 0.6286 - accuracy: 0.7288 - val_loss: 0.5184 - val_accuracy: 0.7924\n",
      "Epoch 8/25\n",
      "56/56 [==============================] - 2s 34ms/step - loss: 0.6259 - accuracy: 0.7344 - val_loss: 0.5641 - val_accuracy: 0.7612\n",
      "Epoch 9/25\n",
      "56/56 [==============================] - 2s 35ms/step - loss: 0.5439 - accuracy: 0.7433 - val_loss: 0.3789 - val_accuracy: 0.8192\n",
      "Epoch 10/25\n",
      "56/56 [==============================] - 2s 36ms/step - loss: 0.4116 - accuracy: 0.7930 - val_loss: 0.3410 - val_accuracy: 0.8438\n",
      "Epoch 11/25\n",
      "56/56 [==============================] - 2s 34ms/step - loss: 0.3759 - accuracy: 0.8147 - val_loss: 0.2865 - val_accuracy: 0.8504\n",
      "Epoch 12/25\n",
      "56/56 [==============================] - 2s 35ms/step - loss: 0.3599 - accuracy: 0.8331 - val_loss: 0.3041 - val_accuracy: 0.8638\n",
      "Epoch 13/25\n",
      "56/56 [==============================] - 2s 33ms/step - loss: 0.4060 - accuracy: 0.8030 - val_loss: 0.3986 - val_accuracy: 0.7991\n",
      "Epoch 14/25\n",
      "56/56 [==============================] - 2s 34ms/step - loss: 0.7793 - accuracy: 0.7154 - val_loss: 0.7347 - val_accuracy: 0.7433\n",
      "Epoch 15/25\n",
      "56/56 [==============================] - 2s 33ms/step - loss: 0.6190 - accuracy: 0.7400 - val_loss: 0.4582 - val_accuracy: 0.7768\n",
      "Epoch 16/25\n",
      "56/56 [==============================] - 2s 34ms/step - loss: 0.4028 - accuracy: 0.8265 - val_loss: 0.3969 - val_accuracy: 0.8013\n",
      "Epoch 17/25\n",
      "56/56 [==============================] - 2s 34ms/step - loss: 0.3832 - accuracy: 0.8181 - val_loss: 0.4813 - val_accuracy: 0.7679\n",
      "Epoch 18/25\n",
      "56/56 [==============================] - 2s 34ms/step - loss: 0.3499 - accuracy: 0.8488 - val_loss: 0.2740 - val_accuracy: 0.8638\n",
      "Epoch 19/25\n",
      "56/56 [==============================] - 2s 34ms/step - loss: 0.2786 - accuracy: 0.8694 - val_loss: 0.2466 - val_accuracy: 0.8705\n",
      "Epoch 20/25\n",
      "56/56 [==============================] - 2s 35ms/step - loss: 0.3023 - accuracy: 0.8493 - val_loss: 0.2465 - val_accuracy: 0.8638\n",
      "Epoch 21/25\n",
      "56/56 [==============================] - 2s 36ms/step - loss: 0.2959 - accuracy: 0.8504 - val_loss: 0.3571 - val_accuracy: 0.8103\n",
      "Epoch 22/25\n",
      "56/56 [==============================] - 2s 35ms/step - loss: 0.3085 - accuracy: 0.8471 - val_loss: 0.2130 - val_accuracy: 0.8839\n",
      "Epoch 23/25\n",
      "56/56 [==============================] - 2s 36ms/step - loss: 0.2401 - accuracy: 0.8873 - val_loss: 0.1924 - val_accuracy: 0.9554\n",
      "Epoch 24/25\n",
      "56/56 [==============================] - 2s 39ms/step - loss: 0.2439 - accuracy: 0.8744 - val_loss: 0.2007 - val_accuracy: 0.8996\n",
      "Epoch 25/25\n",
      "56/56 [==============================] - 2s 37ms/step - loss: 0.2737 - accuracy: 0.8527 - val_loss: 0.2317 - val_accuracy: 0.8839\n",
      "Best epoch: 23\n"
     ]
    }
   ],
   "source": [
    "model = tuner.hypermodel.build(best_hps)\n",
    "history = model.fit(X_train, y_train, epochs=25, validation_split=0.2)\n",
    "\n",
    "val_acc_per_epoch = history.history['val_accuracy']\n",
    "best_epoch = val_acc_per_epoch.index(max(val_acc_per_epoch)) + 1\n",
    "print('Best epoch: %d' % (best_epoch,))\n"
   ]
  },
  {
   "attachments": {},
   "cell_type": "markdown",
   "metadata": {},
   "source": [
    "# The number of epochs that gave the best highest validation accuracy"
   ]
  },
  {
   "cell_type": "code",
   "execution_count": 22,
   "metadata": {},
   "outputs": [
    {
     "data": {
      "text/plain": [
       "23"
      ]
     },
     "execution_count": 22,
     "metadata": {},
     "output_type": "execute_result"
    }
   ],
   "source": [
    "best_epoch"
   ]
  },
  {
   "attachments": {},
   "cell_type": "markdown",
   "metadata": {},
   "source": [
    "\n",
    "# Retrain Model using that optimal number of epochs"
   ]
  },
  {
   "cell_type": "code",
   "execution_count": 23,
   "metadata": {},
   "outputs": [
    {
     "name": "stdout",
     "output_type": "stream",
     "text": [
      "Epoch 1/23\n",
      "56/56 [==============================] - 4s 40ms/step - loss: 3.9480 - accuracy: 0.2796 - val_loss: 1.3735 - val_accuracy: 0.3728\n",
      "Epoch 2/23\n",
      "56/56 [==============================] - 2s 35ms/step - loss: 1.2195 - accuracy: 0.4967 - val_loss: 0.9786 - val_accuracy: 0.6942\n",
      "Epoch 3/23\n",
      "56/56 [==============================] - 2s 35ms/step - loss: 0.8348 - accuracy: 0.6451 - val_loss: 0.6858 - val_accuracy: 0.7009\n",
      "Epoch 4/23\n",
      "56/56 [==============================] - 2s 34ms/step - loss: 0.6300 - accuracy: 0.7316 - val_loss: 0.4585 - val_accuracy: 0.8237\n",
      "Epoch 5/23\n",
      "56/56 [==============================] - 2s 34ms/step - loss: 0.5504 - accuracy: 0.7746 - val_loss: 0.4937 - val_accuracy: 0.7634\n",
      "Epoch 6/23\n",
      "56/56 [==============================] - 2s 34ms/step - loss: 0.5432 - accuracy: 0.7584 - val_loss: 0.3973 - val_accuracy: 0.8326\n",
      "Epoch 7/23\n",
      "56/56 [==============================] - 2s 34ms/step - loss: 0.6411 - accuracy: 0.7556 - val_loss: 0.4544 - val_accuracy: 0.8259\n",
      "Epoch 8/23\n",
      "56/56 [==============================] - 3s 45ms/step - loss: 0.6198 - accuracy: 0.7360 - val_loss: 0.6290 - val_accuracy: 0.7054\n",
      "Epoch 9/23\n",
      "56/56 [==============================] - 2s 35ms/step - loss: 0.4689 - accuracy: 0.8030 - val_loss: 0.3113 - val_accuracy: 0.8996\n",
      "Epoch 10/23\n",
      "56/56 [==============================] - 2s 35ms/step - loss: 0.4144 - accuracy: 0.8164 - val_loss: 0.3108 - val_accuracy: 0.8616\n",
      "Epoch 11/23\n",
      "56/56 [==============================] - 2s 35ms/step - loss: 0.3840 - accuracy: 0.8253 - val_loss: 0.2665 - val_accuracy: 0.8750\n",
      "Epoch 12/23\n",
      "56/56 [==============================] - 2s 35ms/step - loss: 0.3580 - accuracy: 0.8488 - val_loss: 0.2950 - val_accuracy: 0.8906\n",
      "Epoch 13/23\n",
      "56/56 [==============================] - 2s 37ms/step - loss: 0.5559 - accuracy: 0.7779 - val_loss: 0.5607 - val_accuracy: 0.8326\n",
      "Epoch 14/23\n",
      "56/56 [==============================] - 2s 34ms/step - loss: 0.4924 - accuracy: 0.8058 - val_loss: 0.2925 - val_accuracy: 0.8616\n",
      "Epoch 15/23\n",
      "56/56 [==============================] - 2s 35ms/step - loss: 0.4193 - accuracy: 0.8220 - val_loss: 0.2907 - val_accuracy: 0.8616\n",
      "Epoch 16/23\n",
      "56/56 [==============================] - 2s 34ms/step - loss: 0.3592 - accuracy: 0.8432 - val_loss: 0.2478 - val_accuracy: 0.9174\n",
      "Epoch 17/23\n",
      "56/56 [==============================] - 2s 35ms/step - loss: 0.3482 - accuracy: 0.8493 - val_loss: 0.2790 - val_accuracy: 0.8661\n",
      "Epoch 18/23\n",
      "56/56 [==============================] - 2s 35ms/step - loss: 0.3478 - accuracy: 0.8432 - val_loss: 0.2848 - val_accuracy: 0.8549\n",
      "Epoch 19/23\n",
      "56/56 [==============================] - 2s 35ms/step - loss: 0.3365 - accuracy: 0.8477 - val_loss: 0.2515 - val_accuracy: 0.8616\n",
      "Epoch 20/23\n",
      "56/56 [==============================] - 2s 34ms/step - loss: 0.3242 - accuracy: 0.8354 - val_loss: 0.2665 - val_accuracy: 0.8549\n",
      "Epoch 21/23\n",
      "56/56 [==============================] - 2s 35ms/step - loss: 0.3273 - accuracy: 0.8516 - val_loss: 0.2332 - val_accuracy: 0.8728\n",
      "Epoch 22/23\n",
      "56/56 [==============================] - 2s 35ms/step - loss: 0.3992 - accuracy: 0.8287 - val_loss: 0.3457 - val_accuracy: 0.8549\n",
      "Epoch 23/23\n",
      "56/56 [==============================] - 2s 35ms/step - loss: 0.3752 - accuracy: 0.8131 - val_loss: 0.2579 - val_accuracy: 0.8728\n"
     ]
    },
    {
     "data": {
      "text/plain": [
       "<keras.src.callbacks.History at 0x1419fa3fcd0>"
      ]
     },
     "execution_count": 23,
     "metadata": {},
     "output_type": "execute_result"
    }
   ],
   "source": [
    "hypermodel = tuner.hypermodel.build(best_hps)\n",
    "\n",
    "# Retrain the model\n",
    "hypermodel.fit(X_train, y_train, epochs=best_epoch, validation_split=0.2)\n"
   ]
  },
  {
   "attachments": {},
   "cell_type": "markdown",
   "metadata": {},
   "source": [
    "# MODEL SUMMARY"
   ]
  },
  {
   "cell_type": "code",
   "execution_count": 24,
   "metadata": {},
   "outputs": [
    {
     "name": "stdout",
     "output_type": "stream",
     "text": [
      "Model: \"sequential_4\"\n",
      "_________________________________________________________________\n",
      " Layer (type)                Output Shape              Param #   \n",
      "=================================================================\n",
      " conv1d_28 (Conv1D)          (None, 334, 188)          1316      \n",
      "                                                                 \n",
      " conv1d_29 (Conv1D)          (None, 167, 68)           25636     \n",
      "                                                                 \n",
      " conv1d_30 (Conv1D)          (None, 84, 20)            4100      \n",
      "                                                                 \n",
      " max_pooling1d_8 (MaxPoolin  (None, 28, 20)            0         \n",
      " g1D)                                                            \n",
      "                                                                 \n",
      " conv1d_31 (Conv1D)          (None, 27, 116)           4756      \n",
      "                                                                 \n",
      " conv1d_32 (Conv1D)          (None, 27, 40)            4680      \n",
      "                                                                 \n",
      " conv1d_33 (Conv1D)          (None, 14, 4)             484       \n",
      "                                                                 \n",
      " conv1d_34 (Conv1D)          (None, 5, 24)             216       \n",
      "                                                                 \n",
      " max_pooling1d_9 (MaxPoolin  (None, 1, 24)             0         \n",
      " g1D)                                                            \n",
      "                                                                 \n",
      " flatten_4 (Flatten)         (None, 24)                0         \n",
      "                                                                 \n",
      " dense_16 (Dense)            (None, 484)               12100     \n",
      "                                                                 \n",
      " dense_17 (Dense)            (None, 356)               172660    \n",
      "                                                                 \n",
      " dense_18 (Dense)            (None, 468)               167076    \n",
      "                                                                 \n",
      " dense_19 (Dense)            (None, 8)                 3752      \n",
      "                                                                 \n",
      "=================================================================\n",
      "Total params: 396776 (1.51 MB)\n",
      "Trainable params: 396776 (1.51 MB)\n",
      "Non-trainable params: 0 (0.00 Byte)\n",
      "_________________________________________________________________\n"
     ]
    }
   ],
   "source": [
    "hypermodel.summary()"
   ]
  },
  {
   "attachments": {},
   "cell_type": "markdown",
   "metadata": {},
   "source": [
    "## EVALUTAE BASED ON ACCURACY ALONE"
   ]
  },
  {
   "cell_type": "code",
   "execution_count": 26,
   "metadata": {},
   "outputs": [
    {
     "name": "stdout",
     "output_type": "stream",
     "text": [
      "30/30 [==============================] - 0s 13ms/step - loss: 0.2878 - accuracy: 0.8438\n",
      "[test loss, test accuracy]: [0.2878144383430481, 0.84375]\n"
     ]
    }
   ],
   "source": [
    "eval_result = hypermodel.evaluate(X_test, y_test)\n",
    "print(\"[test loss, test accuracy]:\", eval_result)\n"
   ]
  },
  {
   "attachments": {},
   "cell_type": "markdown",
   "metadata": {},
   "source": [
    "# Plot the training history of the model: the `hypermodel`"
   ]
  },
  {
   "cell_type": "code",
   "execution_count": 27,
   "metadata": {},
   "outputs": [
    {
     "name": "stdout",
     "output_type": "stream",
     "text": [
      "30/30 - 0s - loss: 0.2878 - accuracy: 0.8438 - 373ms/epoch - 12ms/step\n"
     ]
    },
    {
     "data": {
      "image/png": "[encoded data removed]",
      "text/plain": [
       "<Figure size 640x480 with 1 Axes>"
      ]
     },
     "metadata": {},
     "output_type": "display_data"
    }
   ],
   "source": [
    "plt.plot(history.history['accuracy'], label='accuracy')\n",
    "plt.plot(history.history['val_accuracy'], label = 'val_accuracy')\n",
    "plt.xlabel('Epoch')\n",
    "plt.ylabel('Accuracy')\n",
    "plt.ylim([0.5, 1])\n",
    "plt.legend(loc='lower right')\n",
    "\n",
    "test_loss, test_acc = hypermodel.evaluate(X_test,  y_test, verbose=2)"
   ]
  },
  {
   "cell_type": "code",
   "execution_count": 28,
   "metadata": {},
   "outputs": [
    {
     "name": "stdout",
     "output_type": "stream",
     "text": [
      "30/30 [==============================] - 0s 12ms/step\n"
     ]
    }
   ],
   "source": [
    "y_preds = hypermodel.predict(X_test)\n",
    "y_true = y_test"
   ]
  },
  {
   "cell_type": "code",
   "execution_count": 29,
   "metadata": {},
   "outputs": [],
   "source": [
    "all_y_preds = y_preds.argmax(axis=1)"
   ]
  },
  {
   "cell_type": "code",
   "execution_count": 30,
   "metadata": {},
   "outputs": [],
   "source": [
    "y_preds = np.array([[val] for val in all_y_preds])"
   ]
  },
  {
   "cell_type": "code",
   "execution_count": 31,
   "metadata": {},
   "outputs": [
    {
     "name": "stdout",
     "output_type": "stream",
     "text": [
      "              precision    recall  f1-score   support\n",
      "\n",
      "         0.0       1.00      1.00      1.00       135\n",
      "         1.0       0.00      0.00      0.00       126\n",
      "         2.0       1.00      0.88      0.94       118\n",
      "         3.0       0.98      0.92      0.95       119\n",
      "         4.0       0.92      1.00      0.96       114\n",
      "         5.0       1.00      1.00      1.00       130\n",
      "         6.0       0.43      1.00      0.60       104\n",
      "         7.0       1.00      1.00      1.00       114\n",
      "\n",
      "    accuracy                           0.84       960\n",
      "   macro avg       0.79      0.85      0.81       960\n",
      "weighted avg       0.80      0.84      0.81       960\n",
      "\n"
     ]
    },
    {
     "name": "stderr",
     "output_type": "stream",
     "text": [
      "c:\\Users\\chigo\\anaconda3\\envs\\project\\lib\\site-packages\\sklearn\\metrics\\_classification.py:1469: UndefinedMetricWarning: Precision and F-score are ill-defined and being set to 0.0 in labels with no predicted samples. Use `zero_division` parameter to control this behavior.\n",
      "  _warn_prf(average, modifier, msg_start, len(result))\n",
      "c:\\Users\\chigo\\anaconda3\\envs\\project\\lib\\site-packages\\sklearn\\metrics\\_classification.py:1469: UndefinedMetricWarning: Precision and F-score are ill-defined and being set to 0.0 in labels with no predicted samples. Use `zero_division` parameter to control this behavior.\n",
      "  _warn_prf(average, modifier, msg_start, len(result))\n",
      "c:\\Users\\chigo\\anaconda3\\envs\\project\\lib\\site-packages\\sklearn\\metrics\\_classification.py:1469: UndefinedMetricWarning: Precision and F-score are ill-defined and being set to 0.0 in labels with no predicted samples. Use `zero_division` parameter to control this behavior.\n",
      "  _warn_prf(average, modifier, msg_start, len(result))\n"
     ]
    }
   ],
   "source": [
    "print(classification_report(y_pred=y_preds, y_true=y_true, ))"
   ]
  },
  {
   "cell_type": "code",
   "execution_count": 32,
   "metadata": {},
   "outputs": [],
   "source": [
    "all_labels = [\n",
    "    'Steady State', 'Transients', \n",
    "    'Incremental load change', \n",
    "    'Decremental load change', \n",
    "    'Breaker opening', 'Sensor fault', \n",
    "    'Stealthy fdia', 'FDIA'\n",
    "    ]"
   ]
  },
  {
   "attachments": {},
   "cell_type": "markdown",
   "metadata": {},
   "source": [
    "# CONFUSION MATRIX"
   ]
  },
  {
   "cell_type": "code",
   "execution_count": 33,
   "metadata": {},
   "outputs": [
    {
     "data": {
      "text/plain": [
       "<sklearn.metrics._plot.confusion_matrix.ConfusionMatrixDisplay at 0x14192903ee0>"
      ]
     },
     "execution_count": 33,
     "metadata": {},
     "output_type": "execute_result"
    },
    {
     "data": {
      "image/png": "[encoded data removed]",
      "text/plain": [
       "<Figure size 12000x2000 with 2 Axes>"
      ]
     },
     "metadata": {},
     "output_type": "display_data"
    }
   ],
   "source": [
    "fig, ax = plt.subplots(figsize=(120,20))\n",
    "cm = confusion_matrix(y_true, y_preds, labels=[0, 1, 2, 3, 4, 5, 6, 7])\n",
    "disp = ConfusionMatrixDisplay(confusion_matrix=cm, display_labels=all_labels,)\n",
    "\n",
    "disp.plot(ax=ax)"
   ]
  },
  {
   "attachments": {},
   "cell_type": "markdown",
   "metadata": {},
   "source": [
    "# SAVE THE DEVELOPED MODEL FOR FUTURE USE"
   ]
  },
  {
   "cell_type": "code",
   "execution_count": 35,
   "metadata": {},
   "outputs": [
    {
     "data": {
      "text/plain": [
       "['cnn_model.joblib']"
      ]
     },
     "execution_count": 35,
     "metadata": {},
     "output_type": "execute_result"
    }
   ],
   "source": [
    "joblib.dump(\"hypermodel\", \"cnn_model.joblib\")"
   ]
  }
 ],
 "metadata": {
  "kernelspec": {
   "display_name": "project",
   "language": "python",
   "name": "python3"
  },
  "language_info": {
   "codemirror_mode": {
    "name": "ipython",
    "version": 3
   },
   "file_extension": ".py",
   "mimetype": "text/x-python",
   "name": "python",
   "nbconvert_exporter": "python",
   "pygments_lexer": "ipython3",
   "version": "3.8.17"
  },
  "orig_nbformat": 4
 },
 "nbformat": 4,
 "nbformat_minor": 2
}
